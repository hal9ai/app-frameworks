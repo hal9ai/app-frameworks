{
 "cells": [
  {
   "cell_type": "markdown",
   "id": "4a242fe8",
   "metadata": {},
   "source": [
    "<H1> Changing Brightness in Images </H1>"
   ]
  },
  {
   "cell_type": "code",
   "execution_count": 9,
   "id": "0b022bc7",
   "metadata": {},
   "outputs": [],
   "source": [
    "from keras.preprocessing import image\n",
    "import tensorflow as tf\n",
    "import os\n",
    "import numpy as np\n",
    "import seaborn as sns\n",
    "from PIL import Image\n",
    "from IPython.display import clear_output\n",
    "\n",
    "import ipywidgets as widgets\n",
    "\n",
    "import matplotlib.pyplot as plt\n",
    "import matplotlib.image as mpimg\n",
    "from matplotlib import rcParams"
   ]
  },
  {
   "cell_type": "code",
   "execution_count": 10,
   "id": "767d4f14",
   "metadata": {},
   "outputs": [],
   "source": [
    "myupload = widgets.FileUpload(\n",
    "    accept= '.jpg', \n",
    "    multiple=False  \n",
    ")\n"
   ]
  },
  {
   "cell_type": "code",
   "execution_count": 11,
   "id": "1c2a044c",
   "metadata": {},
   "outputs": [],
   "source": [
    "def modify_images(picture):\n",
    "    fotos_mod = []                     #here we will save the image\n",
    "    img = image.img_to_array(picture)  #transform the image in an array\n",
    "    img = img/255.                     #normalices the array\n",
    "    fotos_mod.append(img)              #'save' the image in fotos_mod\n",
    "\n",
    "    x = np.array(fotos_mod)            #turns fotos_mod to an array\n",
    "    test_predictions = model.predict(x)                   #obtains the new image with the model\n",
    "    \n",
    "    b = test_predictions.shape[1:4]\n",
    "    c = test_predictions.reshape(b)\n",
    "    modify = Image.fromarray((c * 255).astype(np.uint8))\n",
    "    modify.save('modify.jpg')\n",
    "\n",
    "    return(test_predictions)"
   ]
  },
  {
   "cell_type": "code",
   "execution_count": 12,
   "id": "6cf9329c",
   "metadata": {},
   "outputs": [],
   "source": [
    "model = tf.keras.models.load_model('model_1.h5')      #load the pretrained model\n"
   ]
  },
  {
   "cell_type": "code",
   "execution_count": 13,
   "id": "a451ed39",
   "metadata": {},
   "outputs": [],
   "source": [
    "button = widgets.Button(description=\"Modify Images\")\n",
    "output = widgets.Output()\n",
    "\n",
    "def on_button_clicked(b):\n",
    "    with output:\n",
    "        print(\"Image uploaded successfully\")\n",
    "        if myupload is not None:\n",
    "            for name, file_info in myupload.value.items():\n",
    "                with open ('original.jpg', 'wb') as file:\n",
    "                    file.write(file_info['content'])\n",
    "\n",
    "            picture = Image.open('original.jpg')\n",
    "            test_predictions = modify_images(picture)\n",
    "\n",
    "            out = widgets.Output()\n",
    "\n",
    "            out\n",
    "\n",
    "            with out:\n",
    "                plt.rcParams[\"figure.figsize\"] = [12,12]\n",
    "\n",
    "                fig, axarr = plt.subplots(1,2)\n",
    "\n",
    "                axarr[0].imshow(mpimg.imread('original.jpg'))\n",
    "                axarr[0].set_title(\"Original Image\")\n",
    "                axarr[0].axis('off')\n",
    "\n",
    "                axarr[1].imshow(mpimg.imread('modify.jpg'))\n",
    "                axarr[1].set_title(\"Modify Image\")\n",
    "                axarr[1].axis('off')\n",
    "\n",
    "            plt.show()\n",
    "            \n",
    "            myupload.value.clear()\n",
    "            myupload._counter = 0\n",
    "            \n",
    "            clear_output(wait=True)\n",
    "\n",
    "button.on_click(on_button_clicked)"
   ]
  },
  {
   "cell_type": "code",
   "execution_count": 14,
   "id": "ae094854",
   "metadata": {
    "scrolled": true
   },
   "outputs": [
    {
     "data": {
      "application/vnd.jupyter.widget-view+json": {
       "model_id": "ab7b30a7aea34b57a4c475d421d91b27",
       "version_major": 2,
       "version_minor": 0
      },
      "text/plain": [
       "HBox(children=(FileUpload(value={}, accept='.jpg', description='Upload'), Button(description='Modify Images', …"
      ]
     },
     "metadata": {},
     "output_type": "display_data"
    }
   ],
   "source": [
    "wid = widgets.HBox([myupload,button], layout = widgets.Layout(\n",
    "                    flex_flow='row',\n",
    "                    align_items='center',\n",
    "                    width='70%'))\n",
    "display(wid)\n",
    "\n"
   ]
  },
  {
   "cell_type": "code",
   "execution_count": 16,
   "id": "322169e6",
   "metadata": {
    "scrolled": true
   },
   "outputs": [
    {
     "data": {
      "application/vnd.jupyter.widget-view+json": {
       "model_id": "cd59d4cbbbce41c8803df2ba5f422fa1",
       "version_major": 2,
       "version_minor": 0
      },
      "text/plain": [
       "Output(outputs=({'output_type': 'stream', 'text': 'Images\\n', 'name': 'stdout'}, {'output_type': 'display_data…"
      ]
     },
     "metadata": {},
     "output_type": "display_data"
    }
   ],
   "source": [
    "display(output)\n"
   ]
  },
  {
   "cell_type": "code",
   "execution_count": null,
   "id": "2719c75d",
   "metadata": {},
   "outputs": [],
   "source": [
    "#items_layout = widgets.Layout( width='auto')     # override the default width of the button to 'auto' to let the button grow\n",
    "\n",
    "#box_layout = widgets.Layout(display='flex',\n",
    "#                    flex_flow='row',\n",
    "#                    width='80%')\n",
    "\n",
    "#item1 = (myupload, layout = items_layout) #[widgets.Button(description=word, layout=items_layout, button_style='danger') for word in words]\n",
    "#box = widgets.Box(children=(item1, item2), layout=box_layout)\n",
    "#box"
   ]
  }
 ],
 "metadata": {
  "language_info": {
   "codemirror_mode": {
    "name": "ipython",
    "version": 3
   },
   "file_extension": ".py",
   "mimetype": "text/x-python",
   "name": "python",
   "nbconvert_exporter": "python",
   "pygments_lexer": "ipython3",
   "version": "3.8.13"
  }
 },
 "nbformat": 4,
 "nbformat_minor": 5
}
